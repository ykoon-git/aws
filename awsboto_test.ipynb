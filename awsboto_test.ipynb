{
 "metadata": {
  "language_info": {
   "codemirror_mode": {
    "name": "ipython",
    "version": 3
   },
   "file_extension": ".py",
   "mimetype": "text/x-python",
   "name": "python",
   "nbconvert_exporter": "python",
   "pygments_lexer": "ipython3",
   "version": "3.8.2-final"
  },
  "orig_nbformat": 2,
  "kernelspec": {
   "name": "python382jvsc74a57bd031f2aee4e71d21fbe5cf8b01ff0e069b9275f58929596ceb00d14d90e3e16cd6",
   "display_name": "Python 3.8.2 64-bit"
  },
  "metadata": {
   "interpreter": {
    "hash": "31f2aee4e71d21fbe5cf8b01ff0e069b9275f58929596ceb00d14d90e3e16cd6"
   }
  }
 },
 "nbformat": 4,
 "nbformat_minor": 2,
 "cells": [
  {
   "cell_type": "code",
   "execution_count": 3,
   "metadata": {},
   "outputs": [
    {
     "output_type": "stream",
     "name": "stdout",
     "text": [
      "3\n"
     ]
    }
   ],
   "source": [
    "a = 1\n",
    "b = 2\n",
    "print(a+b)"
   ]
  },
  {
   "cell_type": "code",
   "execution_count": 4,
   "metadata": {},
   "outputs": [
    {
     "output_type": "stream",
     "name": "stdout",
     "text": [
      "amplify-analytics-dev-154849-deployment\namplify-analytics-staging-63026-deployment\namplifybucket-flutter\naws-athena-query-results-us-east-1-216064490951\naws-emr-resources-216064490951-us-east-1\naws-glue-scripts-216064490951-us-east-1\naws-glue-temporary-216064490951-us-east-1\naws-logs-216064490951-us-east-1\ncloudtrail-awslogs-216064490951-c9fnzvj8-isengard-do-not-delete\ncustom-labels-console-us-east-1-280ff95059\ndms-j5it6hdq4imus6jpzzsmumbidtnxuezw4raujca\ndo-not-delete-gatedgarden-audit-216064490951\niotanalytic\noctank-iot\noctank-s3lake\noctank-s3lake-test\noctankpoc\nsagemaker-studio-rom3bxk29z\nsagemaker-us-east-1-216064490951\n"
     ]
    }
   ],
   "source": [
    "# Let's use Amazon S3\n",
    "import boto3\n",
    "\n",
    "s3 = boto3.resource('s3')\n",
    "\n",
    "for bucket in s3.buckets.all():\n",
    "    print(bucket.name)"
   ]
  },
  {
   "cell_type": "code",
   "execution_count": null,
   "metadata": {},
   "outputs": [],
   "source": []
  }
 ]
}