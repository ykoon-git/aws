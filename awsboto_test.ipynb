{
 "metadata": {
  "language_info": {
   "codemirror_mode": {
    "name": "ipython",
    "version": 3
   },
   "file_extension": ".py",
   "mimetype": "text/x-python",
   "name": "python",
   "nbconvert_exporter": "python",
   "pygments_lexer": "ipython3",
   "version": "3.8.2"
  },
  "orig_nbformat": 2,
  "kernelspec": {
   "name": "python3",
   "display_name": "Python 3.8.2 64-bit"
  },
  "metadata": {
   "interpreter": {
    "hash": "31f2aee4e71d21fbe5cf8b01ff0e069b9275f58929596ceb00d14d90e3e16cd6"
   }
  },
  "interpreter": {
   "hash": "31f2aee4e71d21fbe5cf8b01ff0e069b9275f58929596ceb00d14d90e3e16cd6"
  }
 },
 "nbformat": 4,
 "nbformat_minor": 2,
 "cells": [
  {
   "cell_type": "code",
   "execution_count": 1,
   "source": [
    "a = 1\n",
    "b = 2\n",
    "print(a+b)"
   ],
   "outputs": [
    {
     "output_type": "stream",
     "name": "stdout",
     "text": [
      "3\n"
     ]
    }
   ],
   "metadata": {}
  },
  {
   "cell_type": "code",
   "execution_count": 2,
   "source": [
    "# Let's use Amazon S3\n",
    "import boto3\n",
    "\n",
    "s3 = boto3.resource('s3')\n",
    "\n",
    "for bucket in s3.buckets.all():\n",
    "    print(bucket.name)"
   ],
   "outputs": [
    {
     "output_type": "stream",
     "name": "stdout",
     "text": [
      "4sagemaker\n",
      "ac216064490951-healthlake-workshop\n",
      "amplify-analytics-dev-154849-deployment\n",
      "amplify-analytics-staging-63026-deployment\n",
      "amplifybucket-flutter\n",
      "aws-athena-query-results-us-east-1-216064490951\n",
      "aws-emr-resources-216064490951-us-east-1\n",
      "aws-glue-scripts-216064490951-us-east-1\n",
      "aws-glue-temporary-216064490951-us-east-1\n",
      "aws-logs-216064490951-us-east-1\n",
      "cf-templates-uriyjr2wnobd-ap-northeast-2\n",
      "cf-templates-uriyjr2wnobd-us-east-1\n",
      "cloudtrail-awslogs-216064490951-c9fnzvj8-isengard-do-not-delete\n",
      "config-bucket-216064490951\n",
      "custom-labels-console-us-east-1-280ff95059\n",
      "custom-labels-console-us-west-2-27b1cb967c\n",
      "dms-j5it6hdq4imus6jpzzsmumbidtnxuezw4raujca\n",
      "do-not-delete-gatedgarden-audit-216064490951\n",
      "immersion-yk\n",
      "iotanalytic\n",
      "lookoutvision-us-east-1-5c85355215\n",
      "lookoutvision-us-west-2-d99fb9c0e0\n",
      "octank-iot\n",
      "octank-s3lake\n",
      "octank-s3lake-test\n",
      "octankpoc\n",
      "rekog-ws\n",
      "rekogbg\n",
      "sagemaker-soln-gfd-js-koo19zw6-216064490951-us-east-1\n",
      "sagemaker-studio-rom3bxk29z\n",
      "sagemaker-us-east-1-216064490951\n",
      "tire-rekognition\n",
      "yk-lfv\n",
      "ykcloudformation\n",
      "ykdynamodbsrc\n",
      "ykmacie\n",
      "ykredis-backup\n",
      "ykrekog\n",
      "ykrekog-customlabelsdemo-webuibucket-1pfyf50m24k0p\n"
     ]
    }
   ],
   "metadata": {}
  },
  {
   "cell_type": "code",
   "execution_count": null,
   "source": [],
   "outputs": [],
   "metadata": {}
  }
 ]
}