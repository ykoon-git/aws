{
 "cells": [
  {
   "cell_type": "markdown",
   "metadata": {},
   "source": [
    "## Model Start & Stop Function"
   ]
  },
  {
   "cell_type": "code",
   "execution_count": 26,
   "metadata": {},
   "outputs": [],
   "source": [
    "import boto3\n",
    "\n",
    "def start_model(project_arn, model_arn, version_name, min_inference_units):\n",
    "\n",
    "    client=boto3.client('rekognition')\n",
    "\n",
    "    try:\n",
    "        # Start the model\n",
    "        print('Starting model: ' + model_arn)\n",
    "        response=client.start_project_version(ProjectVersionArn=model_arn, MinInferenceUnits=min_inference_units)\n",
    "        # Wait for the model to be in the running state\n",
    "        project_version_running_waiter = client.get_waiter('project_version_running')\n",
    "        project_version_running_waiter.wait(ProjectArn=project_arn, VersionNames=[version_name])\n",
    "\n",
    "        #Get the running status\n",
    "        describe_response=client.describe_project_versions(ProjectArn=project_arn,\n",
    "            VersionNames=[version_name])\n",
    "        for model in describe_response['ProjectVersionDescriptions']:\n",
    "            print(\"Status: \" + model['Status'])\n",
    "            print(\"Message: \" + model['StatusMessage']) \n",
    "    except Exception as e:\n",
    "        print(e)\n",
    "        \n",
    "    print('Done...')\n",
    "\n",
    "def stop_model(model_arn):\n",
    "\n",
    "    client=boto3.client('rekognition')\n",
    "\n",
    "    print('Stopping model:' + model_arn)\n",
    "\n",
    "    #Stop the model\n",
    "    try:\n",
    "        response=client.stop_project_version(ProjectVersionArn=model_arn)\n",
    "        status=response['Status']\n",
    "        print ('Status: ' + status)\n",
    "    except Exception as e:  \n",
    "        print(e)  \n",
    "\n",
    "    print('Done...')"
   ]
  },
  {
   "cell_type": "markdown",
   "metadata": {},
   "source": [
    "### Model Start & Stop"
   ]
  },
  {
   "cell_type": "code",
   "execution_count": 29,
   "metadata": {},
   "outputs": [
    {
     "name": "stdout",
     "output_type": "stream",
     "text": [
      "Starting model: arn:aws:rekognition:us-east-1:216064490951:project/kumho-logo/version/kumho-logo.2021-09-05T22.55.46/1630850147101\n",
      "Status: RUNNING\n",
      "Message: The model is running.\n",
      "Done...\n"
     ]
    }
   ],
   "source": [
    "import boto3\n",
    "\n",
    "project_arn='arn:aws:rekognition:us-east-1:216064490951:project/kumho-logo/1630850112761'\n",
    "model_arn='arn:aws:rekognition:us-east-1:216064490951:project/kumho-logo/version/kumho-logo.2021-09-05T22.55.46/1630850147101'\n",
    "min_inference_units=2 \n",
    "version_name='kumho-logo.2021-09-05T22.55.46'\n",
    "\n",
    "start_model(project_arn, model_arn, version_name, min_inference_units)\n",
    "\n",
    "#stop_model(model_arn)\n"
   ]
  },
  {
   "cell_type": "markdown",
   "metadata": {},
   "source": [
    "### Model Run"
   ]
  },
  {
   "cell_type": "code",
   "execution_count": 32,
   "metadata": {},
   "outputs": [
    {
     "name": "stdout",
     "output_type": "stream",
     "text": [
      "-- 4.043249130249023 seconds ---\n",
      "{'CustomLabels': [{'Name': 'kumho', 'Confidence': 98.09700012207031, 'Geometry': {'BoundingBox': {'Width': 0.43672001361846924, 'Height': 0.19670000672340393, 'Left': 0.326200008392334, 'Top': 0.16797000169754028}}}], 'ResponseMetadata': {'RequestId': 'dbeef593-0fee-4be1-863c-9c3f94884b0b', 'HTTPStatusCode': 200, 'HTTPHeaders': {'content-type': 'application/x-amz-json-1.1', 'date': 'Sun, 03 Oct 2021 06:06:32 GMT', 'x-amzn-requestid': 'dbeef593-0fee-4be1-863c-9c3f94884b0b', 'content-length': '203', 'connection': 'keep-alive'}, 'RetryAttempts': 0}}\n"
     ]
    }
   ],
   "source": [
    "import boto3 \n",
    "import time \n",
    "\n",
    "client = boto3.client('rekognition')\n",
    "\n",
    "bucket='test-rekog-unit'\n",
    "photo='kumho-img.jpg'\n",
    "model='arn:aws:rekognition:us-east-1:216064490951:project/kumho-logo/version/kumho-logo.2021-09-05T22.55.46/1630850147101'\n",
    "min_confidence=95\n",
    "\n",
    "start_time = time.time()\n",
    "\n",
    "response = client.detect_custom_labels(Image={'S3Object': {'Bucket': bucket, 'Name': photo}},\n",
    "    MinConfidence=min_confidence,\n",
    "    ProjectVersionArn=model)\n",
    "\n",
    "print(\"-- %s seconds ---\"%(time.time() - start_time))\n",
    "\n",
    "print(response)"
   ]
  },
  {
   "cell_type": "code",
   "execution_count": 50,
   "metadata": {},
   "outputs": [
    {
     "name": "stdout",
     "output_type": "stream",
     "text": [
      "-- Upload file : 4.6467859745025635 seconds ---\n",
      "-- Inference : 3.5318832397460938 seconds ---\n",
      "{'CustomLabels': [{'Name': 'kumho', 'Confidence': 98.00800323486328, 'Geometry': {'BoundingBox': {'Width': 0.42236000299453735, 'Height': 0.20058000087738037, 'Left': 0.3391599953174591, 'Top': 0.16707000136375427}}}], 'ResponseMetadata': {'RequestId': '6f02a5a2-c377-42de-8148-a81be152778f', 'HTTPStatusCode': 200, 'HTTPHeaders': {'content-type': 'application/x-amz-json-1.1', 'date': 'Sun, 03 Oct 2021 07:52:28 GMT', 'x-amzn-requestid': '6f02a5a2-c377-42de-8148-a81be152778f', 'content-length': '204', 'connection': 'keep-alive'}, 'RetryAttempts': 0}}\n"
     ]
    }
   ],
   "source": [
    "## 파일을 S3 로 업로드 이후에 모델을 Running\n",
    "import boto3 \n",
    "import time \n",
    "\n",
    "client = boto3.client('rekognition')\n",
    "s3client = boto3.client('s3')\n",
    "bucket='test-rekog-unit'\n",
    "krbucket='kr-bucket'\n",
    "photo='kumho-img-resize.jpg'\n",
    "\n",
    "start_time = time.time()\n",
    "s3client.upload_file('/Users/koonyoun/Documents/Dev/aws/kumho-img-resize.jpg', bucket, photo)\n",
    "print(\"-- Upload file : %s seconds ---\"%(time.time() - start_time))\n",
    "\n",
    "start_time = time.time()\n",
    "response = client.detect_custom_labels(Image={'S3Object': {'Bucket': bucket, 'Name': photo}},\n",
    "    MinConfidence=min_confidence,\n",
    "    ProjectVersionArn=model)\n",
    "\n",
    "\n",
    "print(\"-- Inference : %s seconds ---\"%(time.time() - start_time))\n",
    "\n",
    "print(response)"
   ]
  },
  {
   "cell_type": "code",
   "execution_count": 44,
   "metadata": {},
   "outputs": [
    {
     "name": "stdout",
     "output_type": "stream",
     "text": [
      "-- 7.215771913528442 seconds ---\n",
      "{'CustomLabels': [{'Name': 'kumho', 'Confidence': 98.09700012207031, 'Geometry': {'BoundingBox': {'Width': 0.43672001361846924, 'Height': 0.19670000672340393, 'Left': 0.326200008392334, 'Top': 0.16797000169754028}}}], 'ResponseMetadata': {'RequestId': '09d1df91-f89e-47ed-84ef-8f5f9a116681', 'HTTPStatusCode': 200, 'HTTPHeaders': {'content-type': 'application/x-amz-json-1.1', 'date': 'Sun, 03 Oct 2021 06:11:11 GMT', 'x-amzn-requestid': '09d1df91-f89e-47ed-84ef-8f5f9a116681', 'content-length': '203', 'connection': 'keep-alive'}, 'RetryAttempts': 0}}\n"
     ]
    }
   ],
   "source": [
    "## 파일을 Byte-stream 으로 전달\n",
    "import boto3\n",
    "import time \n",
    "\n",
    "client = boto3.client('rekognition')\n",
    "start_time = time.time()\n",
    "\n",
    "image = open('/Users/koonyoun/Documents/Dev/aws/kumho-img.jpg', 'rb')\n",
    "\n",
    "response = client.detect_custom_labels(Image={'Bytes': image.read()},\n",
    "    MinConfidence=min_confidence,\n",
    "    ProjectVersionArn=model)\n",
    "\n",
    "\n",
    "print(\"-- %s seconds ---\"%(time.time() - start_time))\n",
    "\n",
    "print(response)"
   ]
  },
  {
   "cell_type": "code",
   "execution_count": 54,
   "metadata": {},
   "outputs": [
    {
     "name": "stdout",
     "output_type": "stream",
     "text": [
      "-- 3.4851441383361816 seconds ---\n",
      "{'CustomLabels': [{'Name': 'kumho', 'Confidence': 98.00800323486328, 'Geometry': {'BoundingBox': {'Width': 0.42236000299453735, 'Height': 0.20058000087738037, 'Left': 0.3391599953174591, 'Top': 0.16707000136375427}}}], 'ResponseMetadata': {'RequestId': '70a039ea-0ef8-46f5-9382-88048cab0764', 'HTTPStatusCode': 200, 'HTTPHeaders': {'content-type': 'application/x-amz-json-1.1', 'date': 'Sun, 03 Oct 2021 07:53:57 GMT', 'x-amzn-requestid': '70a039ea-0ef8-46f5-9382-88048cab0764', 'content-length': '204', 'connection': 'keep-alive'}, 'RetryAttempts': 0}}\n"
     ]
    }
   ],
   "source": [
    "## 파일을 일반 상태로 Upload\n",
    "import boto3\n",
    "import time \n",
    "\n",
    "client = boto3.client('rekognition')\n",
    "s3client = boto3.client('s3')\n",
    "bucket='test-rekog-unit'\n",
    "krbucket='kr-bucket'\n",
    "photo='kumho-img-resize.jpg'\n",
    "\n",
    "client = boto3.client('rekognition')\n",
    "start_time = time.time()\n",
    "\n",
    "response = client.detect_custom_labels(Image={'S3Object': {'Bucket': bucket, 'Name': photo}},\n",
    "    MinConfidence=min_confidence,\n",
    "    ProjectVersionArn=model)\n",
    "\n",
    "\n",
    "print(\"-- %s seconds ---\"%(time.time() - start_time))\n",
    "\n",
    "print(response)\n"
   ]
  },
  {
   "cell_type": "code",
   "execution_count": 40,
   "metadata": {},
   "outputs": [
    {
     "name": "stdout",
     "output_type": "stream",
     "text": [
      "{\n",
      "    \"CustomLabels\": [\n",
      "        {\n",
      "            \"Name\": \"kumho\",\n",
      "            \"Confidence\": 98.09700012207031,\n",
      "            \"Geometry\": {\n",
      "                \"BoundingBox\": {\n",
      "                    \"Width\": 0.43672001361846924,\n",
      "                    \"Height\": 0.19670000672340393,\n",
      "                    \"Left\": 0.326200008392334,\n",
      "                    \"Top\": 0.16797000169754028\n",
      "                }\n",
      "            }\n",
      "        }\n",
      "    ]\n",
      "}\n"
     ]
    }
   ],
   "source": [
    "!aws rekognition detect-custom-labels --project-version-arn \"arn:aws:rekognition:us-east-1:216064490951:project/kumho-logo/version/kumho-logo.2021-09-05T22.55.46/1630850147101\" --image '{\"S3Object\": {\"Bucket\": \"test-rekog-unit\",\"Name\": \"kumho-img.jpg\"}}' "
   ]
  },
  {
   "cell_type": "code",
   "execution_count": 42,
   "metadata": {},
   "outputs": [
    {
     "name": "stdout",
     "output_type": "stream",
     "text": [
      "{\n",
      "    \"CustomLabels\": [\n",
      "        {\n",
      "            \"Name\": \"kumho\",\n",
      "            \"Confidence\": 98.09700012207031,\n",
      "            \"Geometry\": {\n",
      "                \"BoundingBox\": {\n",
      "                    \"Width\": 0.43672001361846924,\n",
      "                    \"Height\": 0.19670000672340393,\n",
      "                    \"Left\": 0.326200008392334,\n",
      "                    \"Top\": 0.16797000169754028\n",
      "                }\n",
      "            }\n",
      "        }\n",
      "    ]\n",
      "}\n"
     ]
    }
   ],
   "source": [
    "!aws rekognition detect-custom-labels --project-version-arn \"arn:aws:rekognition:us-east-1:216064490951:project/kumho-logo/version/kumho-logo.2021-09-05T22.55.46/1630850147101\" --image-bytes fileb://kumho-img.jpg"
   ]
  },
  {
   "cell_type": "code",
   "execution_count": 21,
   "metadata": {},
   "outputs": [
    {
     "name": "stdout",
     "output_type": "stream",
     "text": [
      "1.17.53\n"
     ]
    }
   ],
   "source": [
    "print(boto3.__version__)"
   ]
  },
  {
   "cell_type": "code",
   "execution_count": 25,
   "metadata": {},
   "outputs": [
    {
     "name": "stdout",
     "output_type": "stream",
     "text": [
      "-- Upload file : 11.020255088806152 seconds ---\n"
     ]
    }
   ],
   "source": [
    "import boto3 \n",
    "import time \n",
    "\n",
    "client = boto3.client('rekognition')\n",
    "s3client = boto3.client('s3')\n",
    "bucket='test-rekog-unit'\n",
    "krbucket='kr-bucket'\n",
    "photo='kumho-img.jpg'\n",
    "\n",
    "start_time = time.time()\n",
    "s3client.upload_file('/Users/koonyoun/Documents/Dev/aws/kumho-img.jpg', bucket, 'kumho-img.jpg')\n",
    "print(\"-- Upload file : %s seconds ---\"%(time.time() - start_time))"
   ]
  },
  {
   "cell_type": "code",
   "execution_count": null,
   "metadata": {},
   "outputs": [],
   "source": []
  }
 ],
 "metadata": {
  "interpreter": {
   "hash": "31f2aee4e71d21fbe5cf8b01ff0e069b9275f58929596ceb00d14d90e3e16cd6"
  },
  "kernelspec": {
   "display_name": "Python 3.8.2 64-bit",
   "name": "python3"
  },
  "language_info": {
   "codemirror_mode": {
    "name": "ipython",
    "version": 3
   },
   "file_extension": ".py",
   "mimetype": "text/x-python",
   "name": "python",
   "nbconvert_exporter": "python",
   "pygments_lexer": "ipython3",
   "version": "3.8.2"
  },
  "orig_nbformat": 4
 },
 "nbformat": 4,
 "nbformat_minor": 2
}
